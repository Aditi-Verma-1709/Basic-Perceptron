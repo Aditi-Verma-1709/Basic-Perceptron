{
 "cells": [
  {
   "cell_type": "code",
   "execution_count": 20,
   "id": "6a53de41",
   "metadata": {},
   "outputs": [],
   "source": [
    "import numpy as np\n",
    "import pandas as pd"
   ]
  },
  {
   "cell_type": "code",
   "execution_count": 139,
   "id": "aa0adfe8",
   "metadata": {},
   "outputs": [
    {
     "data": {
      "text/plain": [
       "array([0.92456966, 0.47968852, 0.98133049])"
      ]
     },
     "execution_count": 139,
     "metadata": {},
     "output_type": "execute_result"
    }
   ],
   "source": [
    "x1=[12,34,5]\n",
    "x2=[4,56,21]\n",
    "y=[29,65,43]\n",
    "np.random.seed(431)\n",
    "initial=np.random.random(3)\n",
    "initial"
   ]
  },
  {
   "cell_type": "code",
   "execution_count": 140,
   "id": "05c80674",
   "metadata": {},
   "outputs": [],
   "source": [
    "def forward_pass(w1,w2,b):\n",
    "    y_pred=[]\n",
    "    error=0\n",
    "    for i in range (3):\n",
    "        y_hat=w1*x1[i]+w2*x2[i]+b\n",
    "        y_pred.append(y_hat)\n",
    "        \n",
    "        error=(y[i]-y_hat)**2\n",
    "        error+=error\n",
    "        \n",
    "    return y_pred, error"
   ]
  },
  {
   "cell_type": "code",
   "execution_count": 141,
   "id": "e8e37332",
   "metadata": {},
   "outputs": [],
   "source": [
    "w1=initial[0]\n",
    "w2=initial[1]\n",
    "b=initial[2]"
   ]
  },
  {
   "cell_type": "code",
   "execution_count": 142,
   "id": "267d4689",
   "metadata": {},
   "outputs": [],
   "source": [
    "y_pred,Total_error=forward_pass(w1,w2,b)"
   ]
  },
  {
   "cell_type": "code",
   "execution_count": 143,
   "id": "dfa5fe9a",
   "metadata": {},
   "outputs": [
    {
     "name": "stdout",
     "output_type": "stream",
     "text": [
      "   Actuals  Predicted      Error\n",
      "0       29  13.994921  15.005079\n",
      "1       65  59.279256   5.720744\n",
      "2       43  15.677638  27.322362\n",
      "Total_error=  1493.0229583855591\n"
     ]
    }
   ],
   "source": [
    "A=pd.DataFrame()\n",
    "A['Actuals']=y\n",
    "A['Predicted']=y_pred\n",
    "A['Error']=A['Actuals']-A['Predicted']\n",
    "print(A)\n",
    "print('Total_error= ',Total_error)"
   ]
  },
  {
   "cell_type": "code",
   "execution_count": 187,
   "id": "09afadda",
   "metadata": {},
   "outputs": [],
   "source": [
    "def weight_update(w1,w2,b,y_pred):\n",
    "    for i in range(n):\n",
    "        dj_dw1=2*x1[i]*(y_pred[i]-y[i])\n",
    "        dj_dw2=2*x2[i]*(y_pred[i]-y[i])\n",
    "        dj_db=2*(y_pred[i]-y[i])\n",
    "        \n",
    "        w1-=lr*dj_dw1\n",
    "        w2-=lr*dj_dw2\n",
    "        b-=lr*dj_db\n",
    "        \n",
    "    return w1,w2,b\n",
    "    \n",
    "    "
   ]
  },
  {
   "cell_type": "code",
   "execution_count": 155,
   "id": "cdc1b36a",
   "metadata": {},
   "outputs": [],
   "source": [
    "n=3\n",
    "lr=0.000003"
   ]
  },
  {
   "cell_type": "code",
   "execution_count": 146,
   "id": "2d370fe3",
   "metadata": {},
   "outputs": [],
   "source": [
    "w1,w2,b=weight_update(w1,w2,b)"
   ]
  },
  {
   "cell_type": "code",
   "execution_count": 147,
   "id": "010661e8",
   "metadata": {},
   "outputs": [],
   "source": [
    "y_pred,Total_error=forward_pass(w1,w2,b)"
   ]
  },
  {
   "cell_type": "code",
   "execution_count": 148,
   "id": "e3a6fce7",
   "metadata": {},
   "outputs": [
    {
     "name": "stdout",
     "output_type": "stream",
     "text": [
      "   Actuals   Predicted      Error\n",
      "0       29   19.994195   9.005805\n",
      "1       65  101.795610 -36.795610\n",
      "2       43   29.262311  13.737689\n",
      "Total_error=  377.4482151488547\n"
     ]
    }
   ],
   "source": [
    "A=pd.DataFrame()\n",
    "A['Actuals']=y\n",
    "A['Predicted']=y_pred\n",
    "A['Error']=A['Actuals']-A['Predicted']\n",
    "print(A)\n",
    "print('Total_error= ',Total_error)"
   ]
  },
  {
   "cell_type": "code",
   "execution_count": 156,
   "id": "c6b7b39a",
   "metadata": {},
   "outputs": [
    {
     "name": "stdout",
     "output_type": "stream",
     "text": [
      "Total_error=  2.6794063354253473e+98\n",
      "Total_error=  2.52698962101392e+98\n",
      "Total_error=  2.383243056599839e+98\n",
      "Total_error=  2.2476734449555754e+98\n",
      "Total_error=  2.1198156441358446e+98\n",
      "Total_error=  1.9992309715666366e+98\n",
      "Total_error=  1.8855056989168737e+98\n",
      "Total_error=  1.7782496325885428e+98\n",
      "Total_error=  1.6770947749549596e+98\n",
      "Total_error=  1.5816940617538297e+98\n"
     ]
    }
   ],
   "source": [
    "for j in range(10):\n",
    "    w1,w2,b=weight_update(w1,w2,b)\n",
    "    y_pred,Total_error=forward_pass(w1,w2,b)\n",
    "    print('Total_error= ',Total_error)"
   ]
  },
  {
   "cell_type": "code",
   "execution_count": 189,
   "id": "beef0a14",
   "metadata": {},
   "outputs": [
    {
     "name": "stdout",
     "output_type": "stream",
     "text": [
      "Initialized Weights w1=  0.6964691855978616 w2 =  0.28613933495037946 b=  0.2268514535642031 \n",
      "\n",
      "Iteration = 0 Error=  296.34571508866685 \n",
      "\n",
      "Iteration = 1 Error=  64.70812343134574 \n",
      "\n",
      "Iteration = 2 Error=  17.51191933374946 \n",
      "\n",
      "Iteration = 3 Error=  6.540921523329017 \n",
      "\n",
      "Iteration = 4 Error=  3.4913963350736608 \n",
      "\n",
      "Iteration = 5 Error=  2.477169398608043 \n",
      "\n",
      "Iteration = 6 Error=  2.0882688928833884 \n",
      "\n",
      "Iteration = 7 Error=  1.9210328858697345 \n",
      "\n",
      "Iteration = 8 Error=  1.8395957059527925 \n",
      "\n",
      "Iteration = 9 Error=  1.7929934893408375 \n",
      "\n",
      "Iteration = 10 Error=  1.760959518049692 \n",
      "\n",
      "Iteration = 11 Error=  1.7352056361555335 \n",
      "\n",
      "Iteration = 12 Error=  1.712297550259516 \n",
      "\n",
      "Iteration = 13 Error=  1.69080186248574 \n",
      "\n",
      "Iteration = 14 Error=  1.6701162666709577 \n",
      "\n",
      "Iteration = 15 Error=  1.649984837083073 \n",
      "\n",
      "Iteration = 16 Error=  1.6302962717097658 \n",
      "\n",
      "Iteration = 17 Error=  1.6109997468450536 \n",
      "\n",
      "Iteration = 18 Error=  1.5920697917751607 \n",
      "\n",
      "Iteration = 19 Error=  1.5734916192772843 \n",
      "\n",
      "Iteration = 20 Error=  1.555254996746506 \n",
      "\n",
      "Iteration = 21 Error=  1.5373516840792227 \n",
      "\n",
      "Iteration = 22 Error=  1.5197743613321213 \n",
      "\n",
      "Iteration = 23 Error=  1.5025161787127919 \n",
      "\n",
      "Iteration = 24 Error=  1.4855705665831052 \n",
      "\n",
      "Iteration = 25 Error=  1.4689311541288221 \n",
      "\n",
      "Iteration = 26 Error=  1.4525917334734946 \n",
      "\n",
      "Iteration = 27 Error=  1.4365462428237532 \n",
      "\n",
      "Iteration = 28 Error=  1.420788757610523 \n",
      "\n",
      "Iteration = 29 Error=  1.4053134850149682 \n",
      "\n",
      "Iteration = 30 Error=  1.3901147599513273 \n",
      "\n",
      "Iteration = 31 Error=  1.375187041699923 \n",
      "\n",
      "Iteration = 32 Error=  1.3605249108527384 \n",
      "\n",
      "Iteration = 33 Error=  1.3461230664289676 \n",
      "\n",
      "Iteration = 34 Error=  1.331976323100465 \n",
      "\n",
      "Iteration = 35 Error=  1.3180796085006135 \n",
      "\n",
      "Iteration = 36 Error=  1.3044279606047415 \n",
      "\n",
      "Iteration = 37 Error=  1.2910165251768013 \n",
      "\n",
      "Iteration = 38 Error=  1.2778405532779462 \n",
      "\n",
      "Iteration = 39 Error=  1.2648953988359217 \n",
      "\n",
      "Iteration = 40 Error=  1.2521765162724194 \n",
      "\n",
      "Iteration = 41 Error=  1.2396794581877537 \n",
      "\n",
      "Iteration = 42 Error=  1.2273998731006808 \n",
      "\n",
      "Iteration = 43 Error=  1.2153335032426527 \n",
      "\n",
      "Iteration = 44 Error=  1.2034761824043945 \n",
      "\n",
      "Iteration = 45 Error=  1.1918238338343388 \n",
      "\n",
      "Iteration = 46 Error=  1.1803724681871273 \n",
      "\n",
      "Iteration = 47 Error=  1.169118181520959 \n",
      "\n",
      "Iteration = 48 Error=  1.1580571533429165 \n",
      "\n",
      "Iteration = 49 Error=  1.1471856447008475 \n",
      "\n",
      "Iteration = 50 Error=  1.1364999963205875 \n",
      "\n",
      "Iteration = 51 Error=  1.1259966267878219 \n",
      "\n",
      "Iteration = 52 Error=  1.1156720307729806 \n",
      "\n",
      "Iteration = 53 Error=  1.1055227772984781 \n",
      "\n",
      "Iteration = 54 Error=  1.095545508047128 \n",
      "\n",
      "Iteration = 55 Error=  1.0857369357108126 \n",
      "\n",
      "Iteration = 56 Error=  1.0760938423783046 \n",
      "\n",
      "Iteration = 57 Error=  1.0666130779613325 \n",
      "\n",
      "Iteration = 58 Error=  1.0572915586580574 \n",
      "\n",
      "Iteration = 59 Error=  1.0481262654529573 \n",
      "\n",
      "Iteration = 60 Error=  1.039114242652128 \n",
      "\n",
      "Iteration = 61 Error=  1.0302525964534965 \n",
      "\n",
      "Iteration = 62 Error=  1.0215384935505873 \n",
      "\n",
      "Iteration = 63 Error=  1.012969159769522 \n",
      "\n",
      "Iteration = 64 Error=  1.0045418787381455 \n",
      "\n",
      "Iteration = 65 Error=  0.9962539905864718 \n",
      "\n",
      "Iteration = 66 Error=  0.9881028906779795 \n",
      "\n",
      "Iteration = 67 Error=  0.9800860283707082 \n",
      "\n",
      "Iteration = 68 Error=  0.9722009058075687 \n",
      "\n",
      "Iteration = 69 Error=  0.9644450767351616 \n",
      "\n",
      "Iteration = 70 Error=  0.9568161453503765 \n",
      "\n",
      "Iteration = 71 Error=  0.9493117651740244 \n",
      "\n",
      "Iteration = 72 Error=  0.9419296379511891 \n",
      "\n",
      "Iteration = 73 Error=  0.9346675125770442 \n",
      "\n",
      "Iteration = 74 Error=  0.9275231840481561 \n",
      "\n",
      "Iteration = 75 Error=  0.9204944924383428 \n",
      "\n",
      "Iteration = 76 Error=  0.9135793218982896 \n",
      "\n",
      "Iteration = 77 Error=  0.9067755996788587 \n",
      "\n",
      "Iteration = 78 Error=  0.9000812951771654 \n",
      "\n",
      "Iteration = 79 Error=  0.8934944190048986 \n",
      "\n",
      "Iteration = 80 Error=  0.8870130220783785 \n",
      "\n",
      "Iteration = 81 Error=  0.8806351947299649 \n",
      "\n",
      "Iteration = 82 Error=  0.8743590658401126 \n",
      "\n",
      "Iteration = 83 Error=  0.8681828019896596 \n",
      "\n",
      "Iteration = 84 Error=  0.8621046066318006 \n",
      "\n",
      "Iteration = 85 Error=  0.8561227192835029 \n",
      "\n",
      "Iteration = 86 Error=  0.8502354147354589 \n",
      "\n",
      "Iteration = 87 Error=  0.8444410022805293 \n",
      "\n",
      "Iteration = 88 Error=  0.838737824960206 \n",
      "\n",
      "Iteration = 89 Error=  0.8331242588282131 \n",
      "\n",
      "Iteration = 90 Error=  0.8275987122315559 \n",
      "\n",
      "Iteration = 91 Error=  0.8221596251078901 \n",
      "\n",
      "Iteration = 92 Error=  0.8168054682993803 \n",
      "\n",
      "Iteration = 93 Error=  0.8115347428821664 \n",
      "\n",
      "Iteration = 94 Error=  0.8063459795115548 \n",
      "\n",
      "Iteration = 95 Error=  0.8012377377822022 \n",
      "\n",
      "Iteration = 96 Error=  0.7962086056029172 \n",
      "\n",
      "Iteration = 97 Error=  0.7912571985861007 \n",
      "\n",
      "Iteration = 98 Error=  0.7863821594510656 \n",
      "\n",
      "Iteration = 99 Error=  0.7815821574410605 \n",
      "\n",
      "Iteration = 100 Error=  0.7768558877538011 \n",
      "\n",
      "Iteration = 101 Error=  0.7722020709848832 \n",
      "\n",
      "Iteration = 102 Error=  0.7676194525841129 \n",
      "\n",
      "Iteration = 103 Error=  0.7631068023241661 \n",
      "\n",
      "Iteration = 104 Error=  0.7586629137814871 \n",
      "\n",
      "Iteration = 105 Error=  0.7542866038289782 \n",
      "\n",
      "Iteration = 106 Error=  0.7499767121402682 \n",
      "\n",
      "Iteration = 107 Error=  0.7457321007053567 \n",
      "\n",
      "Iteration = 108 Error=  0.7415516533571894 \n",
      "\n",
      "Iteration = 109 Error=  0.7374342753090931 \n",
      "\n",
      "Iteration = 110 Error=  0.7333788927026266 \n",
      "\n",
      "Iteration = 111 Error=  0.7293844521658178 \n",
      "\n",
      "Iteration = 112 Error=  0.725449920381315 \n",
      "\n",
      "Iteration = 113 Error=  0.721574283664397 \n",
      "\n",
      "Iteration = 114 Error=  0.7177565475504367 \n",
      "\n",
      "Iteration = 115 Error=  0.7139957363918314 \n",
      "\n",
      "Iteration = 116 Error=  0.710290892963909 \n",
      "\n",
      "Iteration = 117 Error=  0.7066410780798221 \n",
      "\n",
      "Iteration = 118 Error=  0.7030453702140048 \n",
      "\n",
      "Iteration = 119 Error=  0.6995028651341988 \n",
      "\n",
      "Iteration = 120 Error=  0.6960126755417433 \n",
      "\n",
      "Iteration = 121 Error=  0.6925739307199398 \n",
      "\n",
      "Iteration = 122 Error=  0.6891857761902084 \n",
      "\n",
      "Iteration = 123 Error=  0.6858473733761213 \n",
      "\n",
      "Iteration = 124 Error=  0.6825578992747798 \n",
      "\n",
      "Iteration = 125 Error=  0.6793165461356785 \n",
      "\n",
      "Iteration = 126 Error=  0.6761225211466908 \n",
      "\n",
      "Iteration = 127 Error=  0.6729750461269298 \n",
      "\n",
      "Iteration = 128 Error=  0.6698733572266954 \n",
      "\n",
      "Iteration = 129 Error=  0.6668167046339073 \n",
      "\n",
      "Iteration = 130 Error=  0.6638043522871515 \n",
      "\n",
      "Iteration = 131 Error=  0.6608355775949539 \n",
      "\n",
      "Iteration = 132 Error=  0.6579096711615379 \n",
      "\n",
      "Iteration = 133 Error=  0.65502593651839 \n",
      "\n",
      "Iteration = 134 Error=  0.6521836898618603 \n",
      "\n",
      "Iteration = 135 Error=  0.649382259796656 \n",
      "\n",
      "Iteration = 136 Error=  0.6466209870847923 \n",
      "\n",
      "Iteration = 137 Error=  0.6438992244002033 \n",
      "\n",
      "Iteration = 138 Error=  0.6412163360887646 \n",
      "\n",
      "Iteration = 139 Error=  0.6385716979335172 \n",
      "\n",
      "Iteration = 140 Error=  0.6359646969250141 \n",
      "\n",
      "Iteration = 141 Error=  0.6333947310368641 \n",
      "\n",
      "Iteration = 142 Error=  0.6308612090059572 \n",
      "\n",
      "Iteration = 143 Error=  0.628363550117663 \n",
      "\n",
      "Iteration = 144 Error=  0.6259011839956344 \n",
      "\n",
      "Iteration = 145 Error=  0.6234735503962715 \n",
      "\n",
      "Iteration = 146 Error=  0.6210800990074856 \n",
      "\n",
      "Iteration = 147 Error=  0.6187202892520697 \n",
      "\n",
      "Iteration = 148 Error=  0.6163935900951208 \n",
      "\n",
      "Iteration = 149 Error=  0.6140994798558002 \n",
      "\n",
      "Iteration = 150 Error=  0.6118374460230263 \n",
      "\n",
      "Iteration = 151 Error=  0.6096069850751995 \n",
      "\n",
      "Iteration = 152 Error=  0.6074076023039696 \n",
      "\n",
      "Iteration = 153 Error=  0.6052388116414613 \n",
      "\n",
      "Iteration = 154 Error=  0.6031001354915729 \n",
      "\n",
      "Iteration = 155 Error=  0.6009911045646503 \n",
      "\n",
      "Iteration = 156 Error=  0.5989112577157912 \n",
      "\n",
      "Iteration = 157 Error=  0.596860141786723 \n",
      "\n",
      "Iteration = 158 Error=  0.5948373114507614 \n",
      "\n",
      "Iteration = 159 Error=  0.5928423290614592 \n",
      "\n",
      "Iteration = 160 Error=  0.5908747645041467 \n",
      "\n"
     ]
    }
   ],
   "source": [
    "#Model Orchestration\n",
    "x1=[10,8,15]\n",
    "x2=[8,20,25]\n",
    "y=[20,15,30]\n",
    "np.random.seed(123)\n",
    "initial=np.random.random(3)\n",
    "n=len(x1)\n",
    "lr=0.0002\n",
    "w1=initial[0]\n",
    "w2=initial[1]\n",
    "b=initial[2]\n",
    "print('Initialized Weights w1= ',w1,'w2 = ',w2,'b= ',b,'\\n')\n",
    "error=[]\n",
    "iteration=160\n",
    "for iter_num in range(iteration+1):\n",
    "    y_pred,Total_error=forward_pass(w1,w2,b)\n",
    "    print('Iteration =',iter_num,'Error= ',Total_error ,'\\n')\n",
    "    error.append(Total_error)\n",
    "    w1,w2,b=weight_update(w1,w2,b,y_pred)\n",
    "    "
   ]
  },
  {
   "cell_type": "code",
   "execution_count": 190,
   "id": "4cc864c7",
   "metadata": {},
   "outputs": [
    {
     "data": {
      "text/plain": [
       "[19.519883585047776, 16.012627155488634, 29.456458481574707]"
      ]
     },
     "execution_count": 190,
     "metadata": {},
     "output_type": "execute_result"
    }
   ],
   "source": [
    "y_pred\n"
   ]
  },
  {
   "cell_type": "code",
   "execution_count": 191,
   "id": "fa0733c8",
   "metadata": {},
   "outputs": [
    {
     "data": {
      "text/plain": [
       "[20, 15, 30]"
      ]
     },
     "execution_count": 191,
     "metadata": {},
     "output_type": "execute_result"
    }
   ],
   "source": [
    "y"
   ]
  },
  {
   "cell_type": "code",
   "execution_count": 193,
   "id": "a219ae11",
   "metadata": {},
   "outputs": [],
   "source": [
    "import matplotlib.pyplot as plt"
   ]
  },
  {
   "cell_type": "code",
   "execution_count": 197,
   "id": "4f0f1761",
   "metadata": {},
   "outputs": [
    {
     "data": {
      "text/plain": [
       "[<matplotlib.lines.Line2D at 0x29dbc7cf1f0>]"
      ]
     },
     "execution_count": 197,
     "metadata": {},
     "output_type": "execute_result"
    },
    {
     "data": {
      "image/png": "[encoded data removed]",
      "text/plain": [
       "<Figure size 432x288 with 1 Axes>"
      ]
     },
     "metadata": {
      "needs_background": "light"
     },
     "output_type": "display_data"
    }
   ],
   "source": [
    "plt.plot(error)"
   ]
  },
  {
   "cell_type": "code",
   "execution_count": null,
   "id": "8ff7a7b3",
   "metadata": {},
   "outputs": [],
   "source": []
  }
 ],
 "metadata": {
  "kernelspec": {
   "display_name": "Python 3 (ipykernel)",
   "language": "python",
   "name": "python3"
  },
  "language_info": {
   "codemirror_mode": {
    "name": "ipython",
    "version": 3
   },
   "file_extension": ".py",
   "mimetype": "text/x-python",
   "name": "python",
   "nbconvert_exporter": "python",
   "pygments_lexer": "ipython3",
   "version": "3.9.7"
  }
 },
 "nbformat": 4,
 "nbformat_minor": 5
}
